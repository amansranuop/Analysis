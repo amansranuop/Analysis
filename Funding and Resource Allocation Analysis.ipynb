{
  "nbformat": 4,
  "nbformat_minor": 0,
  "metadata": {
    "colab": {
      "provenance": []
    },
    "kernelspec": {
      "name": "python3",
      "display_name": "Python 3"
    },
    "language_info": {
      "name": "python"
    }
  },
  "cells": [
    {
      "cell_type": "markdown",
      "source": [
        "Aman Sran\n",
        "\n",
        "Module 7 report: Funding and Resource Allocation Analysis"
      ],
      "metadata": {
        "id": "0aOi-rXtjnfS"
      }
    },
    {
      "cell_type": "markdown",
      "source": [
        "## Objective of the Research"
      ],
      "metadata": {
        "id": "Yj9s6GqwkSyi"
      }
    },
    {
      "cell_type": "markdown",
      "source": [
        "Each American city/state has different amount of fundings for the police department. The budget can be high, low, or maybe even distributed in different ways. In my analysis, I will focus on the crime rate and make a recommendation to the federal government on how they can best use their resources and fundings to ensure success in fighting crime.\n",
        "\n",
        "The officials of law enforcement will use this analysis to ensure personnel, vehicles, and any other special equipment is being distributed optimally. By analyzing crime patterns, I will be able to determine in which jurisdiction higher patrolling might be beneficial or find some areas where community policing initiative benefit the citizens to feel protected.\n",
        "\n",
        "I will recieve such results by cleaning the raw data and ensure there aren't any null values that might produce inaccurate results. I will sort and create series of my columns to get a better understanding of crime rates and pattern. I will use statistical data to determine whether certain citities that are above the average of crime rates which will help the police officials better understand the places that require special attention.\n",
        "\n",
        "\n"
      ],
      "metadata": {
        "id": "ojUnYT98kWif"
      }
    },
    {
      "cell_type": "markdown",
      "source": [
        "## Data Exploration"
      ],
      "metadata": {
        "id": "mBzhJq3DnjRM"
      }
    },
    {
      "cell_type": "code",
      "source": [
        "# Lets start by uploading necessary libraries\n",
        "\n",
        "import pandas as pd\n",
        "import numpy as np\n",
        "import seaborn as sns\n",
        "import matplotlib.pyplot as plt\n"
      ],
      "metadata": {
        "id": "6INeVRP4nk0B"
      },
      "execution_count": null,
      "outputs": []
    },
    {
      "cell_type": "code",
      "source": [
        "# upload the dataset\n",
        "df = pd.read_csv(\"/content/Crime in Context (1).csv\")"
      ],
      "metadata": {
        "id": "qPP8wbkKn4tA"
      },
      "execution_count": null,
      "outputs": []
    },
    {
      "cell_type": "code",
      "source": [
        "#display the dataframe using the function head()\n",
        "df.head(5)"
      ],
      "metadata": {
        "colab": {
          "base_uri": "https://localhost:8080/",
          "height": 224
        },
        "id": "sqE0YELkoWgE",
        "outputId": "b67d419a-a7df-4978-9da8-357436def5a6"
      },
      "execution_count": null,
      "outputs": [
        {
          "output_type": "execute_result",
          "data": {
            "text/plain": [
              "   report_year agency_code agency_jurisdiction  population  violent_crimes  \\\n",
              "0         1975     NM00101    Albuquerque - NM      286238            2383   \n",
              "1         1975     TX22001      Arlington - TX      112478             278   \n",
              "2         1975     GAAPD00        Atlanta - GA      490584            8033   \n",
              "3         1975     CO00101         Aurora - CO      116656             611   \n",
              "4         1975     TX22701         Austin - TX      300400            1215   \n",
              "\n",
              "   homicides  rapes  assaults  robberies  months_reported  crimes_percapita  \\\n",
              "0         30    181      1353        819             12.0            832.52   \n",
              "1          5     28       132        113             12.0            247.16   \n",
              "2        185    443      3518       3887             12.0           1637.44   \n",
              "3          7     44       389        171             12.0            523.76   \n",
              "4         33    190       463        529             12.0            404.46   \n",
              "\n",
              "   homicides_percapita  rapes_percapita  assaults_percapita  \\\n",
              "0                10.48            63.23              472.68   \n",
              "1                 4.45            24.89              117.36   \n",
              "2                37.71            90.30              717.10   \n",
              "3                 6.00            37.72              333.46   \n",
              "4                10.99            63.25              154.13   \n",
              "\n",
              "   robberies_percapita  \n",
              "0               286.13  \n",
              "1               100.46  \n",
              "2               792.32  \n",
              "3               146.58  \n",
              "4               176.10  "
            ],
            "text/html": [
              "\n",
              "  <div id=\"df-d0a4948a-be73-4a86-9362-91464098bff7\" class=\"colab-df-container\">\n",
              "    <div>\n",
              "<style scoped>\n",
              "    .dataframe tbody tr th:only-of-type {\n",
              "        vertical-align: middle;\n",
              "    }\n",
              "\n",
              "    .dataframe tbody tr th {\n",
              "        vertical-align: top;\n",
              "    }\n",
              "\n",
              "    .dataframe thead th {\n",
              "        text-align: right;\n",
              "    }\n",
              "</style>\n",
              "<table border=\"1\" class=\"dataframe\">\n",
              "  <thead>\n",
              "    <tr style=\"text-align: right;\">\n",
              "      <th></th>\n",
              "      <th>report_year</th>\n",
              "      <th>agency_code</th>\n",
              "      <th>agency_jurisdiction</th>\n",
              "      <th>population</th>\n",
              "      <th>violent_crimes</th>\n",
              "      <th>homicides</th>\n",
              "      <th>rapes</th>\n",
              "      <th>assaults</th>\n",
              "      <th>robberies</th>\n",
              "      <th>months_reported</th>\n",
              "      <th>crimes_percapita</th>\n",
              "      <th>homicides_percapita</th>\n",
              "      <th>rapes_percapita</th>\n",
              "      <th>assaults_percapita</th>\n",
              "      <th>robberies_percapita</th>\n",
              "    </tr>\n",
              "  </thead>\n",
              "  <tbody>\n",
              "    <tr>\n",
              "      <th>0</th>\n",
              "      <td>1975</td>\n",
              "      <td>NM00101</td>\n",
              "      <td>Albuquerque - NM</td>\n",
              "      <td>286238</td>\n",
              "      <td>2383</td>\n",
              "      <td>30</td>\n",
              "      <td>181</td>\n",
              "      <td>1353</td>\n",
              "      <td>819</td>\n",
              "      <td>12.0</td>\n",
              "      <td>832.52</td>\n",
              "      <td>10.48</td>\n",
              "      <td>63.23</td>\n",
              "      <td>472.68</td>\n",
              "      <td>286.13</td>\n",
              "    </tr>\n",
              "    <tr>\n",
              "      <th>1</th>\n",
              "      <td>1975</td>\n",
              "      <td>TX22001</td>\n",
              "      <td>Arlington - TX</td>\n",
              "      <td>112478</td>\n",
              "      <td>278</td>\n",
              "      <td>5</td>\n",
              "      <td>28</td>\n",
              "      <td>132</td>\n",
              "      <td>113</td>\n",
              "      <td>12.0</td>\n",
              "      <td>247.16</td>\n",
              "      <td>4.45</td>\n",
              "      <td>24.89</td>\n",
              "      <td>117.36</td>\n",
              "      <td>100.46</td>\n",
              "    </tr>\n",
              "    <tr>\n",
              "      <th>2</th>\n",
              "      <td>1975</td>\n",
              "      <td>GAAPD00</td>\n",
              "      <td>Atlanta - GA</td>\n",
              "      <td>490584</td>\n",
              "      <td>8033</td>\n",
              "      <td>185</td>\n",
              "      <td>443</td>\n",
              "      <td>3518</td>\n",
              "      <td>3887</td>\n",
              "      <td>12.0</td>\n",
              "      <td>1637.44</td>\n",
              "      <td>37.71</td>\n",
              "      <td>90.30</td>\n",
              "      <td>717.10</td>\n",
              "      <td>792.32</td>\n",
              "    </tr>\n",
              "    <tr>\n",
              "      <th>3</th>\n",
              "      <td>1975</td>\n",
              "      <td>CO00101</td>\n",
              "      <td>Aurora - CO</td>\n",
              "      <td>116656</td>\n",
              "      <td>611</td>\n",
              "      <td>7</td>\n",
              "      <td>44</td>\n",
              "      <td>389</td>\n",
              "      <td>171</td>\n",
              "      <td>12.0</td>\n",
              "      <td>523.76</td>\n",
              "      <td>6.00</td>\n",
              "      <td>37.72</td>\n",
              "      <td>333.46</td>\n",
              "      <td>146.58</td>\n",
              "    </tr>\n",
              "    <tr>\n",
              "      <th>4</th>\n",
              "      <td>1975</td>\n",
              "      <td>TX22701</td>\n",
              "      <td>Austin - TX</td>\n",
              "      <td>300400</td>\n",
              "      <td>1215</td>\n",
              "      <td>33</td>\n",
              "      <td>190</td>\n",
              "      <td>463</td>\n",
              "      <td>529</td>\n",
              "      <td>12.0</td>\n",
              "      <td>404.46</td>\n",
              "      <td>10.99</td>\n",
              "      <td>63.25</td>\n",
              "      <td>154.13</td>\n",
              "      <td>176.10</td>\n",
              "    </tr>\n",
              "  </tbody>\n",
              "</table>\n",
              "</div>\n",
              "    <div class=\"colab-df-buttons\">\n",
              "\n",
              "  <div class=\"colab-df-container\">\n",
              "    <button class=\"colab-df-convert\" onclick=\"convertToInteractive('df-d0a4948a-be73-4a86-9362-91464098bff7')\"\n",
              "            title=\"Convert this dataframe to an interactive table.\"\n",
              "            style=\"display:none;\">\n",
              "\n",
              "  <svg xmlns=\"http://www.w3.org/2000/svg\" height=\"24px\" viewBox=\"0 -960 960 960\">\n",
              "    <path d=\"M120-120v-720h720v720H120Zm60-500h600v-160H180v160Zm220 220h160v-160H400v160Zm0 220h160v-160H400v160ZM180-400h160v-160H180v160Zm440 0h160v-160H620v160ZM180-180h160v-160H180v160Zm440 0h160v-160H620v160Z\"/>\n",
              "  </svg>\n",
              "    </button>\n",
              "\n",
              "  <style>\n",
              "    .colab-df-container {\n",
              "      display:flex;\n",
              "      gap: 12px;\n",
              "    }\n",
              "\n",
              "    .colab-df-convert {\n",
              "      background-color: #E8F0FE;\n",
              "      border: none;\n",
              "      border-radius: 50%;\n",
              "      cursor: pointer;\n",
              "      display: none;\n",
              "      fill: #1967D2;\n",
              "      height: 32px;\n",
              "      padding: 0 0 0 0;\n",
              "      width: 32px;\n",
              "    }\n",
              "\n",
              "    .colab-df-convert:hover {\n",
              "      background-color: #E2EBFA;\n",
              "      box-shadow: 0px 1px 2px rgba(60, 64, 67, 0.3), 0px 1px 3px 1px rgba(60, 64, 67, 0.15);\n",
              "      fill: #174EA6;\n",
              "    }\n",
              "\n",
              "    .colab-df-buttons div {\n",
              "      margin-bottom: 4px;\n",
              "    }\n",
              "\n",
              "    [theme=dark] .colab-df-convert {\n",
              "      background-color: #3B4455;\n",
              "      fill: #D2E3FC;\n",
              "    }\n",
              "\n",
              "    [theme=dark] .colab-df-convert:hover {\n",
              "      background-color: #434B5C;\n",
              "      box-shadow: 0px 1px 3px 1px rgba(0, 0, 0, 0.15);\n",
              "      filter: drop-shadow(0px 1px 2px rgba(0, 0, 0, 0.3));\n",
              "      fill: #FFFFFF;\n",
              "    }\n",
              "  </style>\n",
              "\n",
              "    <script>\n",
              "      const buttonEl =\n",
              "        document.querySelector('#df-d0a4948a-be73-4a86-9362-91464098bff7 button.colab-df-convert');\n",
              "      buttonEl.style.display =\n",
              "        google.colab.kernel.accessAllowed ? 'block' : 'none';\n",
              "\n",
              "      async function convertToInteractive(key) {\n",
              "        const element = document.querySelector('#df-d0a4948a-be73-4a86-9362-91464098bff7');\n",
              "        const dataTable =\n",
              "          await google.colab.kernel.invokeFunction('convertToInteractive',\n",
              "                                                    [key], {});\n",
              "        if (!dataTable) return;\n",
              "\n",
              "        const docLinkHtml = 'Like what you see? Visit the ' +\n",
              "          '<a target=\"_blank\" href=https://colab.research.google.com/notebooks/data_table.ipynb>data table notebook</a>'\n",
              "          + ' to learn more about interactive tables.';\n",
              "        element.innerHTML = '';\n",
              "        dataTable['output_type'] = 'display_data';\n",
              "        await google.colab.output.renderOutput(dataTable, element);\n",
              "        const docLink = document.createElement('div');\n",
              "        docLink.innerHTML = docLinkHtml;\n",
              "        element.appendChild(docLink);\n",
              "      }\n",
              "    </script>\n",
              "  </div>\n",
              "\n",
              "\n",
              "<div id=\"df-18701a40-a629-4c17-a811-bec9a98d4894\">\n",
              "  <button class=\"colab-df-quickchart\" onclick=\"quickchart('df-18701a40-a629-4c17-a811-bec9a98d4894')\"\n",
              "            title=\"Suggest charts.\"\n",
              "            style=\"display:none;\">\n",
              "\n",
              "<svg xmlns=\"http://www.w3.org/2000/svg\" height=\"24px\"viewBox=\"0 0 24 24\"\n",
              "     width=\"24px\">\n",
              "    <g>\n",
              "        <path d=\"M19 3H5c-1.1 0-2 .9-2 2v14c0 1.1.9 2 2 2h14c1.1 0 2-.9 2-2V5c0-1.1-.9-2-2-2zM9 17H7v-7h2v7zm4 0h-2V7h2v10zm4 0h-2v-4h2v4z\"/>\n",
              "    </g>\n",
              "</svg>\n",
              "  </button>\n",
              "\n",
              "<style>\n",
              "  .colab-df-quickchart {\n",
              "      --bg-color: #E8F0FE;\n",
              "      --fill-color: #1967D2;\n",
              "      --hover-bg-color: #E2EBFA;\n",
              "      --hover-fill-color: #174EA6;\n",
              "      --disabled-fill-color: #AAA;\n",
              "      --disabled-bg-color: #DDD;\n",
              "  }\n",
              "\n",
              "  [theme=dark] .colab-df-quickchart {\n",
              "      --bg-color: #3B4455;\n",
              "      --fill-color: #D2E3FC;\n",
              "      --hover-bg-color: #434B5C;\n",
              "      --hover-fill-color: #FFFFFF;\n",
              "      --disabled-bg-color: #3B4455;\n",
              "      --disabled-fill-color: #666;\n",
              "  }\n",
              "\n",
              "  .colab-df-quickchart {\n",
              "    background-color: var(--bg-color);\n",
              "    border: none;\n",
              "    border-radius: 50%;\n",
              "    cursor: pointer;\n",
              "    display: none;\n",
              "    fill: var(--fill-color);\n",
              "    height: 32px;\n",
              "    padding: 0;\n",
              "    width: 32px;\n",
              "  }\n",
              "\n",
              "  .colab-df-quickchart:hover {\n",
              "    background-color: var(--hover-bg-color);\n",
              "    box-shadow: 0 1px 2px rgba(60, 64, 67, 0.3), 0 1px 3px 1px rgba(60, 64, 67, 0.15);\n",
              "    fill: var(--button-hover-fill-color);\n",
              "  }\n",
              "\n",
              "  .colab-df-quickchart-complete:disabled,\n",
              "  .colab-df-quickchart-complete:disabled:hover {\n",
              "    background-color: var(--disabled-bg-color);\n",
              "    fill: var(--disabled-fill-color);\n",
              "    box-shadow: none;\n",
              "  }\n",
              "\n",
              "  .colab-df-spinner {\n",
              "    border: 2px solid var(--fill-color);\n",
              "    border-color: transparent;\n",
              "    border-bottom-color: var(--fill-color);\n",
              "    animation:\n",
              "      spin 1s steps(1) infinite;\n",
              "  }\n",
              "\n",
              "  @keyframes spin {\n",
              "    0% {\n",
              "      border-color: transparent;\n",
              "      border-bottom-color: var(--fill-color);\n",
              "      border-left-color: var(--fill-color);\n",
              "    }\n",
              "    20% {\n",
              "      border-color: transparent;\n",
              "      border-left-color: var(--fill-color);\n",
              "      border-top-color: var(--fill-color);\n",
              "    }\n",
              "    30% {\n",
              "      border-color: transparent;\n",
              "      border-left-color: var(--fill-color);\n",
              "      border-top-color: var(--fill-color);\n",
              "      border-right-color: var(--fill-color);\n",
              "    }\n",
              "    40% {\n",
              "      border-color: transparent;\n",
              "      border-right-color: var(--fill-color);\n",
              "      border-top-color: var(--fill-color);\n",
              "    }\n",
              "    60% {\n",
              "      border-color: transparent;\n",
              "      border-right-color: var(--fill-color);\n",
              "    }\n",
              "    80% {\n",
              "      border-color: transparent;\n",
              "      border-right-color: var(--fill-color);\n",
              "      border-bottom-color: var(--fill-color);\n",
              "    }\n",
              "    90% {\n",
              "      border-color: transparent;\n",
              "      border-bottom-color: var(--fill-color);\n",
              "    }\n",
              "  }\n",
              "</style>\n",
              "\n",
              "  <script>\n",
              "    async function quickchart(key) {\n",
              "      const quickchartButtonEl =\n",
              "        document.querySelector('#' + key + ' button');\n",
              "      quickchartButtonEl.disabled = true;  // To prevent multiple clicks.\n",
              "      quickchartButtonEl.classList.add('colab-df-spinner');\n",
              "      try {\n",
              "        const charts = await google.colab.kernel.invokeFunction(\n",
              "            'suggestCharts', [key], {});\n",
              "      } catch (error) {\n",
              "        console.error('Error during call to suggestCharts:', error);\n",
              "      }\n",
              "      quickchartButtonEl.classList.remove('colab-df-spinner');\n",
              "      quickchartButtonEl.classList.add('colab-df-quickchart-complete');\n",
              "    }\n",
              "    (() => {\n",
              "      let quickchartButtonEl =\n",
              "        document.querySelector('#df-18701a40-a629-4c17-a811-bec9a98d4894 button');\n",
              "      quickchartButtonEl.style.display =\n",
              "        google.colab.kernel.accessAllowed ? 'block' : 'none';\n",
              "    })();\n",
              "  </script>\n",
              "</div>\n",
              "    </div>\n",
              "  </div>\n"
            ]
          },
          "metadata": {},
          "execution_count": 3
        }
      ]
    },
    {
      "cell_type": "code",
      "source": [
        "# get statistical information on the dataframe by using the function describe()\n",
        "df.describe()"
      ],
      "metadata": {
        "colab": {
          "base_uri": "https://localhost:8080/",
          "height": 317
        },
        "id": "ihtRx4N3odGM",
        "outputId": "f26e7397-8f1d-4d19-b563-cfcda069cdb9"
      },
      "execution_count": null,
      "outputs": [
        {
          "output_type": "execute_result",
          "data": {
            "text/plain": [
              "       report_year    population  violent_crimes    homicides        rapes  \\\n",
              "count  2753.000000  2.753000e+03     2753.000000  2753.000000  2753.000000   \n",
              "mean   1995.047584  7.964581e+05     8946.377043   124.872503   416.221940   \n",
              "std      11.843099  1.013582e+06    15862.946876   203.162613   479.889799   \n",
              "min    1975.000000  1.007630e+05      154.000000     1.000000    15.000000   \n",
              "25%    1985.000000  3.780140e+05     2965.000000    32.000000   176.000000   \n",
              "50%    1995.000000  5.370810e+05     5066.000000    63.000000   291.000000   \n",
              "75%    2005.000000  8.170830e+05     8804.000000   127.000000   465.000000   \n",
              "max    2015.000000  8.550861e+06   174542.000000  2245.000000  3899.000000   \n",
              "\n",
              "           assaults      robberies  months_reported  crimes_percapita  \\\n",
              "count   2753.000000    2753.000000      2688.000000       2753.000000   \n",
              "mean    4405.146023    4000.136578        11.886533       1101.271402   \n",
              "std     6977.293769    8655.473241         1.020882        678.387232   \n",
              "min       15.000000      83.000000         0.000000         16.490000   \n",
              "25%     1467.000000    1032.000000        12.000000        633.710000   \n",
              "50%     2597.000000    1939.000000        12.000000        957.970000   \n",
              "75%     4556.000000    3609.000000        12.000000       1417.570000   \n",
              "max    71030.000000  107475.000000        12.000000       4352.830000   \n",
              "\n",
              "       homicides_percapita  rapes_percapita  assaults_percapita  \\\n",
              "count          2753.000000      2753.000000         2753.000000   \n",
              "mean             15.488529        59.294442          566.595434   \n",
              "std              12.399798        31.972423          369.436996   \n",
              "min               0.210000         1.640000            1.610000   \n",
              "25%               7.010000        35.770000          319.090000   \n",
              "50%              12.150000        55.900000          487.480000   \n",
              "75%              20.350000        77.790000          728.240000   \n",
              "max              94.740000       199.300000         2368.220000   \n",
              "\n",
              "       robberies_percapita  \n",
              "count          2753.000000  \n",
              "mean            459.893095  \n",
              "std             340.942730  \n",
              "min              11.460000  \n",
              "25%             210.190000  \n",
              "50%             374.320000  \n",
              "75%             610.730000  \n",
              "max            2337.520000  "
            ],
            "text/html": [
              "\n",
              "  <div id=\"df-483988d7-052f-4c65-8f50-67bedccfec66\" class=\"colab-df-container\">\n",
              "    <div>\n",
              "<style scoped>\n",
              "    .dataframe tbody tr th:only-of-type {\n",
              "        vertical-align: middle;\n",
              "    }\n",
              "\n",
              "    .dataframe tbody tr th {\n",
              "        vertical-align: top;\n",
              "    }\n",
              "\n",
              "    .dataframe thead th {\n",
              "        text-align: right;\n",
              "    }\n",
              "</style>\n",
              "<table border=\"1\" class=\"dataframe\">\n",
              "  <thead>\n",
              "    <tr style=\"text-align: right;\">\n",
              "      <th></th>\n",
              "      <th>report_year</th>\n",
              "      <th>population</th>\n",
              "      <th>violent_crimes</th>\n",
              "      <th>homicides</th>\n",
              "      <th>rapes</th>\n",
              "      <th>assaults</th>\n",
              "      <th>robberies</th>\n",
              "      <th>months_reported</th>\n",
              "      <th>crimes_percapita</th>\n",
              "      <th>homicides_percapita</th>\n",
              "      <th>rapes_percapita</th>\n",
              "      <th>assaults_percapita</th>\n",
              "      <th>robberies_percapita</th>\n",
              "    </tr>\n",
              "  </thead>\n",
              "  <tbody>\n",
              "    <tr>\n",
              "      <th>count</th>\n",
              "      <td>2753.000000</td>\n",
              "      <td>2.753000e+03</td>\n",
              "      <td>2753.000000</td>\n",
              "      <td>2753.000000</td>\n",
              "      <td>2753.000000</td>\n",
              "      <td>2753.000000</td>\n",
              "      <td>2753.000000</td>\n",
              "      <td>2688.000000</td>\n",
              "      <td>2753.000000</td>\n",
              "      <td>2753.000000</td>\n",
              "      <td>2753.000000</td>\n",
              "      <td>2753.000000</td>\n",
              "      <td>2753.000000</td>\n",
              "    </tr>\n",
              "    <tr>\n",
              "      <th>mean</th>\n",
              "      <td>1995.047584</td>\n",
              "      <td>7.964581e+05</td>\n",
              "      <td>8946.377043</td>\n",
              "      <td>124.872503</td>\n",
              "      <td>416.221940</td>\n",
              "      <td>4405.146023</td>\n",
              "      <td>4000.136578</td>\n",
              "      <td>11.886533</td>\n",
              "      <td>1101.271402</td>\n",
              "      <td>15.488529</td>\n",
              "      <td>59.294442</td>\n",
              "      <td>566.595434</td>\n",
              "      <td>459.893095</td>\n",
              "    </tr>\n",
              "    <tr>\n",
              "      <th>std</th>\n",
              "      <td>11.843099</td>\n",
              "      <td>1.013582e+06</td>\n",
              "      <td>15862.946876</td>\n",
              "      <td>203.162613</td>\n",
              "      <td>479.889799</td>\n",
              "      <td>6977.293769</td>\n",
              "      <td>8655.473241</td>\n",
              "      <td>1.020882</td>\n",
              "      <td>678.387232</td>\n",
              "      <td>12.399798</td>\n",
              "      <td>31.972423</td>\n",
              "      <td>369.436996</td>\n",
              "      <td>340.942730</td>\n",
              "    </tr>\n",
              "    <tr>\n",
              "      <th>min</th>\n",
              "      <td>1975.000000</td>\n",
              "      <td>1.007630e+05</td>\n",
              "      <td>154.000000</td>\n",
              "      <td>1.000000</td>\n",
              "      <td>15.000000</td>\n",
              "      <td>15.000000</td>\n",
              "      <td>83.000000</td>\n",
              "      <td>0.000000</td>\n",
              "      <td>16.490000</td>\n",
              "      <td>0.210000</td>\n",
              "      <td>1.640000</td>\n",
              "      <td>1.610000</td>\n",
              "      <td>11.460000</td>\n",
              "    </tr>\n",
              "    <tr>\n",
              "      <th>25%</th>\n",
              "      <td>1985.000000</td>\n",
              "      <td>3.780140e+05</td>\n",
              "      <td>2965.000000</td>\n",
              "      <td>32.000000</td>\n",
              "      <td>176.000000</td>\n",
              "      <td>1467.000000</td>\n",
              "      <td>1032.000000</td>\n",
              "      <td>12.000000</td>\n",
              "      <td>633.710000</td>\n",
              "      <td>7.010000</td>\n",
              "      <td>35.770000</td>\n",
              "      <td>319.090000</td>\n",
              "      <td>210.190000</td>\n",
              "    </tr>\n",
              "    <tr>\n",
              "      <th>50%</th>\n",
              "      <td>1995.000000</td>\n",
              "      <td>5.370810e+05</td>\n",
              "      <td>5066.000000</td>\n",
              "      <td>63.000000</td>\n",
              "      <td>291.000000</td>\n",
              "      <td>2597.000000</td>\n",
              "      <td>1939.000000</td>\n",
              "      <td>12.000000</td>\n",
              "      <td>957.970000</td>\n",
              "      <td>12.150000</td>\n",
              "      <td>55.900000</td>\n",
              "      <td>487.480000</td>\n",
              "      <td>374.320000</td>\n",
              "    </tr>\n",
              "    <tr>\n",
              "      <th>75%</th>\n",
              "      <td>2005.000000</td>\n",
              "      <td>8.170830e+05</td>\n",
              "      <td>8804.000000</td>\n",
              "      <td>127.000000</td>\n",
              "      <td>465.000000</td>\n",
              "      <td>4556.000000</td>\n",
              "      <td>3609.000000</td>\n",
              "      <td>12.000000</td>\n",
              "      <td>1417.570000</td>\n",
              "      <td>20.350000</td>\n",
              "      <td>77.790000</td>\n",
              "      <td>728.240000</td>\n",
              "      <td>610.730000</td>\n",
              "    </tr>\n",
              "    <tr>\n",
              "      <th>max</th>\n",
              "      <td>2015.000000</td>\n",
              "      <td>8.550861e+06</td>\n",
              "      <td>174542.000000</td>\n",
              "      <td>2245.000000</td>\n",
              "      <td>3899.000000</td>\n",
              "      <td>71030.000000</td>\n",
              "      <td>107475.000000</td>\n",
              "      <td>12.000000</td>\n",
              "      <td>4352.830000</td>\n",
              "      <td>94.740000</td>\n",
              "      <td>199.300000</td>\n",
              "      <td>2368.220000</td>\n",
              "      <td>2337.520000</td>\n",
              "    </tr>\n",
              "  </tbody>\n",
              "</table>\n",
              "</div>\n",
              "    <div class=\"colab-df-buttons\">\n",
              "\n",
              "  <div class=\"colab-df-container\">\n",
              "    <button class=\"colab-df-convert\" onclick=\"convertToInteractive('df-483988d7-052f-4c65-8f50-67bedccfec66')\"\n",
              "            title=\"Convert this dataframe to an interactive table.\"\n",
              "            style=\"display:none;\">\n",
              "\n",
              "  <svg xmlns=\"http://www.w3.org/2000/svg\" height=\"24px\" viewBox=\"0 -960 960 960\">\n",
              "    <path d=\"M120-120v-720h720v720H120Zm60-500h600v-160H180v160Zm220 220h160v-160H400v160Zm0 220h160v-160H400v160ZM180-400h160v-160H180v160Zm440 0h160v-160H620v160ZM180-180h160v-160H180v160Zm440 0h160v-160H620v160Z\"/>\n",
              "  </svg>\n",
              "    </button>\n",
              "\n",
              "  <style>\n",
              "    .colab-df-container {\n",
              "      display:flex;\n",
              "      gap: 12px;\n",
              "    }\n",
              "\n",
              "    .colab-df-convert {\n",
              "      background-color: #E8F0FE;\n",
              "      border: none;\n",
              "      border-radius: 50%;\n",
              "      cursor: pointer;\n",
              "      display: none;\n",
              "      fill: #1967D2;\n",
              "      height: 32px;\n",
              "      padding: 0 0 0 0;\n",
              "      width: 32px;\n",
              "    }\n",
              "\n",
              "    .colab-df-convert:hover {\n",
              "      background-color: #E2EBFA;\n",
              "      box-shadow: 0px 1px 2px rgba(60, 64, 67, 0.3), 0px 1px 3px 1px rgba(60, 64, 67, 0.15);\n",
              "      fill: #174EA6;\n",
              "    }\n",
              "\n",
              "    .colab-df-buttons div {\n",
              "      margin-bottom: 4px;\n",
              "    }\n",
              "\n",
              "    [theme=dark] .colab-df-convert {\n",
              "      background-color: #3B4455;\n",
              "      fill: #D2E3FC;\n",
              "    }\n",
              "\n",
              "    [theme=dark] .colab-df-convert:hover {\n",
              "      background-color: #434B5C;\n",
              "      box-shadow: 0px 1px 3px 1px rgba(0, 0, 0, 0.15);\n",
              "      filter: drop-shadow(0px 1px 2px rgba(0, 0, 0, 0.3));\n",
              "      fill: #FFFFFF;\n",
              "    }\n",
              "  </style>\n",
              "\n",
              "    <script>\n",
              "      const buttonEl =\n",
              "        document.querySelector('#df-483988d7-052f-4c65-8f50-67bedccfec66 button.colab-df-convert');\n",
              "      buttonEl.style.display =\n",
              "        google.colab.kernel.accessAllowed ? 'block' : 'none';\n",
              "\n",
              "      async function convertToInteractive(key) {\n",
              "        const element = document.querySelector('#df-483988d7-052f-4c65-8f50-67bedccfec66');\n",
              "        const dataTable =\n",
              "          await google.colab.kernel.invokeFunction('convertToInteractive',\n",
              "                                                    [key], {});\n",
              "        if (!dataTable) return;\n",
              "\n",
              "        const docLinkHtml = 'Like what you see? Visit the ' +\n",
              "          '<a target=\"_blank\" href=https://colab.research.google.com/notebooks/data_table.ipynb>data table notebook</a>'\n",
              "          + ' to learn more about interactive tables.';\n",
              "        element.innerHTML = '';\n",
              "        dataTable['output_type'] = 'display_data';\n",
              "        await google.colab.output.renderOutput(dataTable, element);\n",
              "        const docLink = document.createElement('div');\n",
              "        docLink.innerHTML = docLinkHtml;\n",
              "        element.appendChild(docLink);\n",
              "      }\n",
              "    </script>\n",
              "  </div>\n",
              "\n",
              "\n",
              "<div id=\"df-5ffaa4d7-cfd5-45eb-8bd3-f378e1615aba\">\n",
              "  <button class=\"colab-df-quickchart\" onclick=\"quickchart('df-5ffaa4d7-cfd5-45eb-8bd3-f378e1615aba')\"\n",
              "            title=\"Suggest charts.\"\n",
              "            style=\"display:none;\">\n",
              "\n",
              "<svg xmlns=\"http://www.w3.org/2000/svg\" height=\"24px\"viewBox=\"0 0 24 24\"\n",
              "     width=\"24px\">\n",
              "    <g>\n",
              "        <path d=\"M19 3H5c-1.1 0-2 .9-2 2v14c0 1.1.9 2 2 2h14c1.1 0 2-.9 2-2V5c0-1.1-.9-2-2-2zM9 17H7v-7h2v7zm4 0h-2V7h2v10zm4 0h-2v-4h2v4z\"/>\n",
              "    </g>\n",
              "</svg>\n",
              "  </button>\n",
              "\n",
              "<style>\n",
              "  .colab-df-quickchart {\n",
              "      --bg-color: #E8F0FE;\n",
              "      --fill-color: #1967D2;\n",
              "      --hover-bg-color: #E2EBFA;\n",
              "      --hover-fill-color: #174EA6;\n",
              "      --disabled-fill-color: #AAA;\n",
              "      --disabled-bg-color: #DDD;\n",
              "  }\n",
              "\n",
              "  [theme=dark] .colab-df-quickchart {\n",
              "      --bg-color: #3B4455;\n",
              "      --fill-color: #D2E3FC;\n",
              "      --hover-bg-color: #434B5C;\n",
              "      --hover-fill-color: #FFFFFF;\n",
              "      --disabled-bg-color: #3B4455;\n",
              "      --disabled-fill-color: #666;\n",
              "  }\n",
              "\n",
              "  .colab-df-quickchart {\n",
              "    background-color: var(--bg-color);\n",
              "    border: none;\n",
              "    border-radius: 50%;\n",
              "    cursor: pointer;\n",
              "    display: none;\n",
              "    fill: var(--fill-color);\n",
              "    height: 32px;\n",
              "    padding: 0;\n",
              "    width: 32px;\n",
              "  }\n",
              "\n",
              "  .colab-df-quickchart:hover {\n",
              "    background-color: var(--hover-bg-color);\n",
              "    box-shadow: 0 1px 2px rgba(60, 64, 67, 0.3), 0 1px 3px 1px rgba(60, 64, 67, 0.15);\n",
              "    fill: var(--button-hover-fill-color);\n",
              "  }\n",
              "\n",
              "  .colab-df-quickchart-complete:disabled,\n",
              "  .colab-df-quickchart-complete:disabled:hover {\n",
              "    background-color: var(--disabled-bg-color);\n",
              "    fill: var(--disabled-fill-color);\n",
              "    box-shadow: none;\n",
              "  }\n",
              "\n",
              "  .colab-df-spinner {\n",
              "    border: 2px solid var(--fill-color);\n",
              "    border-color: transparent;\n",
              "    border-bottom-color: var(--fill-color);\n",
              "    animation:\n",
              "      spin 1s steps(1) infinite;\n",
              "  }\n",
              "\n",
              "  @keyframes spin {\n",
              "    0% {\n",
              "      border-color: transparent;\n",
              "      border-bottom-color: var(--fill-color);\n",
              "      border-left-color: var(--fill-color);\n",
              "    }\n",
              "    20% {\n",
              "      border-color: transparent;\n",
              "      border-left-color: var(--fill-color);\n",
              "      border-top-color: var(--fill-color);\n",
              "    }\n",
              "    30% {\n",
              "      border-color: transparent;\n",
              "      border-left-color: var(--fill-color);\n",
              "      border-top-color: var(--fill-color);\n",
              "      border-right-color: var(--fill-color);\n",
              "    }\n",
              "    40% {\n",
              "      border-color: transparent;\n",
              "      border-right-color: var(--fill-color);\n",
              "      border-top-color: var(--fill-color);\n",
              "    }\n",
              "    60% {\n",
              "      border-color: transparent;\n",
              "      border-right-color: var(--fill-color);\n",
              "    }\n",
              "    80% {\n",
              "      border-color: transparent;\n",
              "      border-right-color: var(--fill-color);\n",
              "      border-bottom-color: var(--fill-color);\n",
              "    }\n",
              "    90% {\n",
              "      border-color: transparent;\n",
              "      border-bottom-color: var(--fill-color);\n",
              "    }\n",
              "  }\n",
              "</style>\n",
              "\n",
              "  <script>\n",
              "    async function quickchart(key) {\n",
              "      const quickchartButtonEl =\n",
              "        document.querySelector('#' + key + ' button');\n",
              "      quickchartButtonEl.disabled = true;  // To prevent multiple clicks.\n",
              "      quickchartButtonEl.classList.add('colab-df-spinner');\n",
              "      try {\n",
              "        const charts = await google.colab.kernel.invokeFunction(\n",
              "            'suggestCharts', [key], {});\n",
              "      } catch (error) {\n",
              "        console.error('Error during call to suggestCharts:', error);\n",
              "      }\n",
              "      quickchartButtonEl.classList.remove('colab-df-spinner');\n",
              "      quickchartButtonEl.classList.add('colab-df-quickchart-complete');\n",
              "    }\n",
              "    (() => {\n",
              "      let quickchartButtonEl =\n",
              "        document.querySelector('#df-5ffaa4d7-cfd5-45eb-8bd3-f378e1615aba button');\n",
              "      quickchartButtonEl.style.display =\n",
              "        google.colab.kernel.accessAllowed ? 'block' : 'none';\n",
              "    })();\n",
              "  </script>\n",
              "</div>\n",
              "    </div>\n",
              "  </div>\n"
            ]
          },
          "metadata": {},
          "execution_count": 4
        }
      ]
    },
    {
      "cell_type": "markdown",
      "source": [
        "To interpret the above table, Mean number of violent crimes in a year that were reported are 8496. The higest number of violent crimes that were reported are 174,542. The describe () results of this dataframe gives a better understanding of crime trends/patterns including the population size."
      ],
      "metadata": {
        "id": "CnKS2TL5pRRs"
      }
    },
    {
      "cell_type": "code",
      "source": [
        "# Number of rows and columns using the function .shape\n",
        "df.shape"
      ],
      "metadata": {
        "colab": {
          "base_uri": "https://localhost:8080/"
        },
        "id": "IANns1B4otL0",
        "outputId": "c66e1886-2081-4a82-fcf0-79b5cf3e116d"
      },
      "execution_count": null,
      "outputs": [
        {
          "output_type": "execute_result",
          "data": {
            "text/plain": [
              "(2753, 15)"
            ]
          },
          "metadata": {},
          "execution_count": 5
        }
      ]
    },
    {
      "cell_type": "markdown",
      "source": [
        "2753 rows and 15 columns"
      ],
      "metadata": {
        "id": "g0fMbrlwrMyk"
      }
    },
    {
      "cell_type": "code",
      "source": [
        "# see if there are any null values. sum() will give a sum of all NA values in each columns\n",
        "\n",
        "df.isnull().sum()"
      ],
      "metadata": {
        "colab": {
          "base_uri": "https://localhost:8080/"
        },
        "id": "j9acxh0TqVNK",
        "outputId": "2ebb9b46-d9f7-4249-e71a-018ed4d37af5"
      },
      "execution_count": null,
      "outputs": [
        {
          "output_type": "execute_result",
          "data": {
            "text/plain": [
              "report_year             0\n",
              "agency_code             0\n",
              "agency_jurisdiction     0\n",
              "population              0\n",
              "violent_crimes          0\n",
              "homicides               0\n",
              "rapes                   0\n",
              "assaults                0\n",
              "robberies               0\n",
              "months_reported        65\n",
              "crimes_percapita        0\n",
              "homicides_percapita     0\n",
              "rapes_percapita         0\n",
              "assaults_percapita      0\n",
              "robberies_percapita     0\n",
              "dtype: int64"
            ]
          },
          "metadata": {},
          "execution_count": 6
        }
      ]
    },
    {
      "cell_type": "code",
      "source": [
        "# null values in percentage. you use same as null values but divide it by len(df)\n",
        "percent_na = df.isnull().sum()/len(df)\n",
        "print(percent_na)"
      ],
      "metadata": {
        "colab": {
          "base_uri": "https://localhost:8080/"
        },
        "id": "2X7Tsy1yrkcp",
        "outputId": "81a0dfa1-ba9b-43c5-8eff-bdb1da0a9f94"
      },
      "execution_count": null,
      "outputs": [
        {
          "output_type": "stream",
          "name": "stdout",
          "text": [
            "report_year            0.000000\n",
            "agency_code            0.000000\n",
            "agency_jurisdiction    0.000000\n",
            "population             0.000000\n",
            "violent_crimes         0.000000\n",
            "homicides              0.000000\n",
            "rapes                  0.000000\n",
            "assaults               0.000000\n",
            "robberies              0.000000\n",
            "months_reported        0.023611\n",
            "crimes_percapita       0.000000\n",
            "homicides_percapita    0.000000\n",
            "rapes_percapita        0.000000\n",
            "assaults_percapita     0.000000\n",
            "robberies_percapita    0.000000\n",
            "dtype: float64\n"
          ]
        }
      ]
    },
    {
      "cell_type": "markdown",
      "source": [
        "As seen above for the sum and percentage sum, only months reported columns has missing values. It has 65 missing values which is 0.023%. I will drop those rows because it only makes up a very small percentage and by dropping those out of 2753 enteries, it wouldn't interfere with the rest of the analysis."
      ],
      "metadata": {
        "id": "GqEOoHpAr4La"
      }
    },
    {
      "cell_type": "code",
      "source": [
        "#Visualize the null values\n",
        "sns.heatmap(df.isnull(), yticklabels= False)"
      ],
      "metadata": {
        "colab": {
          "base_uri": "https://localhost:8080/",
          "height": 582
        },
        "id": "fZ9SFbdlsQf2",
        "outputId": "23cb710d-58da-4865-bfec-bc135d9bf854"
      },
      "execution_count": null,
      "outputs": [
        {
          "output_type": "execute_result",
          "data": {
            "text/plain": [
              "<Axes: >"
            ]
          },
          "metadata": {},
          "execution_count": 8
        },
        {
          "output_type": "display_data",
          "data": {
            "text/plain": [
              "<Figure size 640x480 with 2 Axes>"
            ],
            "image/png": "[encoded data removed]"
          },
          "metadata": {}
        }
      ]
    },
    {
      "cell_type": "markdown",
      "source": [
        "I visualized the null values to be more confident in my decision of dropping the null values. As seen in the heatmap above, the area that is all black represents that the data is complete."
      ],
      "metadata": {
        "id": "A7dCAD21tS1j"
      }
    },
    {
      "cell_type": "code",
      "source": [
        "# Drop the null values using .dropna()\n",
        "df.dropna(inplace = True) # inplace = True keeps all the new changes into the same df"
      ],
      "metadata": {
        "id": "6QdM0AtntHkE"
      },
      "execution_count": null,
      "outputs": []
    },
    {
      "cell_type": "code",
      "source": [
        "# confirm that there are no null values\n",
        "df.isnull().sum()"
      ],
      "metadata": {
        "colab": {
          "base_uri": "https://localhost:8080/"
        },
        "id": "IGAlnlYftkpH",
        "outputId": "745ca70e-3c5e-44ef-f202-248d7a8bf4b8"
      },
      "execution_count": null,
      "outputs": [
        {
          "output_type": "execute_result",
          "data": {
            "text/plain": [
              "report_year            0\n",
              "agency_code            0\n",
              "agency_jurisdiction    0\n",
              "population             0\n",
              "violent_crimes         0\n",
              "homicides              0\n",
              "rapes                  0\n",
              "assaults               0\n",
              "robberies              0\n",
              "months_reported        0\n",
              "crimes_percapita       0\n",
              "homicides_percapita    0\n",
              "rapes_percapita        0\n",
              "assaults_percapita     0\n",
              "robberies_percapita    0\n",
              "dtype: int64"
            ]
          },
          "metadata": {},
          "execution_count": 10
        }
      ]
    },
    {
      "cell_type": "markdown",
      "source": [
        "## One Column Selection"
      ],
      "metadata": {
        "id": "eOW3gTu3uW0h"
      }
    },
    {
      "cell_type": "markdown",
      "source": [
        "For my column selection, I will pick \"violent_crimes\" and pick its 10 largest values. Using those values, I will be able to identify the cities with the higest counts of violent crimes. This will help identify which cities needs higher patrolling or any additional resources."
      ],
      "metadata": {
        "id": "-RYLjeslu05D"
      }
    },
    {
      "cell_type": "code",
      "source": [
        "# .nlargest(10) will identify the top 10 values and display it next to appropriate jurisdiction.\n",
        "violent_crimes_jurisdiction = df.nlargest(10, 'violent_crimes')[['agency_jurisdiction', 'violent_crimes']]\n",
        "print(violent_crimes_jurisdiction)\n"
      ],
      "metadata": {
        "colab": {
          "base_uri": "https://localhost:8080/"
        },
        "id": "DMe-cgpeugcU",
        "outputId": "aca8aa65-d99f-49db-8705-0461d91116de"
      },
      "execution_count": null,
      "outputs": [
        {
          "output_type": "stream",
          "name": "stdout",
          "text": [
            "     agency_jurisdiction  violent_crimes\n",
            "1043  New York City - NY          174542\n",
            "1110  New York City - NY          170390\n",
            "976   New York City - NY          169487\n",
            "910   New York City - NY          162916\n",
            "1177  New York City - NY          159578\n",
            "442   New York City - NY          156946\n",
            "1244  New York City - NY          153543\n",
            "375   New York City - NY          149549\n",
            "844   New York City - NY          148313\n",
            "509   New York City - NY          143943\n"
          ]
        }
      ]
    },
    {
      "cell_type": "markdown",
      "source": [
        "Based on above results, New York City has the highest violent crime rates across different years in the data. The maximum number is 174542 and the lowest is 143943. This would suggest to the federal government that New York City would require appropriate amount of funding because they would require more staff, patrol equipment as well as any other resources."
      ],
      "metadata": {
        "id": "1Qo_NQXzwkuk"
      }
    },
    {
      "cell_type": "markdown",
      "source": [
        "## Sort"
      ],
      "metadata": {
        "id": "TrYsRa6dzFAx"
      }
    },
    {
      "cell_type": "code",
      "source": [
        "# create a dataset with 5 columns.\n",
        "\n",
        "five_columns = [\"agency_jurisdiction\",\"report_year\",\"violent_crimes\",\"rapes\",\"assaults\"]\n",
        "\n",
        "# put those created columns into a new dataset\n",
        "\n",
        "df1 = df[five_columns]"
      ],
      "metadata": {
        "id": "x5weobgFv5R8"
      },
      "execution_count": null,
      "outputs": []
    },
    {
      "cell_type": "code",
      "source": [
        "# sort df1 by violent_crimes. We need descending order for violent crimes and ascending for year display\n",
        "#.sort_values function will sort the values as seen below\n",
        "\n",
        "sorted_df1 = df1.sort_values(by=[\"violent_crimes\",\"report_year\"],ascending =[False,True])\n",
        "\n",
        "#print sorted df1\n",
        "\n",
        "print(sorted_df1)"
      ],
      "metadata": {
        "colab": {
          "base_uri": "https://localhost:8080/"
        },
        "id": "nhhXHudMNpn_",
        "outputId": "b8ef224c-6114-40c4-9fcb-f7ed4646954a"
      },
      "execution_count": null,
      "outputs": [
        {
          "output_type": "stream",
          "name": "stdout",
          "text": [
            "      agency_jurisdiction  report_year  violent_crimes  rapes  assaults\n",
            "1043   New York City - NY         1990          174542   3126     68891\n",
            "1110   New York City - NY         1991          170390   2892     66832\n",
            "976    New York City - NY         1989          169487   3254     70951\n",
            "910    New York City - NY         1988          162916   3412     71030\n",
            "1177   New York City - NY         1992          159578   2815     63529\n",
            "...                   ...          ...             ...    ...       ...\n",
            "1          Arlington - TX         1975             278     28       132\n",
            "68         Arlington - TX         1976             274     30       140\n",
            "31              Mesa - AZ         1975             267     22       145\n",
            "1756  Fairfax County - VA         2001             249     32        42\n",
            "1689  Fairfax County - VA         2000             154     30        15\n",
            "\n",
            "[2688 rows x 5 columns]\n"
          ]
        }
      ]
    },
    {
      "cell_type": "markdown",
      "source": [
        "The above results shows that New York City had the highest violent crimes, including rapes and assaults in the years compared to states such as Texas and Arizona. This would show which states needs what rescources and the amount of funding.\n",
        "\n",
        "This study also shows numbers of crimes for each city's police department and using the years, it shows a crime pattern. For example, looking at years 2000-2001 for Fairfax County, VA it can be seen violent crime count went from 154 to 249 within a year. This will help the head officials to decide the amount of patrolling that needs to be happening as well the resources for it that are needed. The trend will help them ask for more funding as need be."
      ],
      "metadata": {
        "id": "Scb2hTqXO-TW"
      }
    },
    {
      "cell_type": "markdown",
      "source": [
        "## Series"
      ],
      "metadata": {
        "id": "SEVHNFrWQ4P9"
      }
    },
    {
      "cell_type": "code",
      "source": [
        "# create a series of 5 columns that will show us the results of different crimes\n",
        "\n",
        "# store the columns in a variable first\n",
        "series_columns = [\"violent_crimes\",\"assaults\",\"robberies\",\"homicides\",\"rapes\"]\n",
        "\n",
        "# group with jurisdiction using .groupby in order to evaluate results\n",
        "#sum gives the total number\n",
        "group_series = df.groupby(\"agency_jurisdiction\")[series_columns].sum()\n",
        "\n",
        "#print\n",
        "print(group_series)"
      ],
      "metadata": {
        "colab": {
          "base_uri": "https://localhost:8080/"
        },
        "id": "PJ--z4lWSZ-p",
        "outputId": "537b63a1-c599-495d-8a2c-2f8ac0fd9c6e"
      },
      "execution_count": null,
      "outputs": [
        {
          "output_type": "stream",
          "name": "stdout",
          "text": [
            "                     violent_crimes  assaults  robberies  homicides  rapes\n",
            "agency_jurisdiction                                                       \n",
            "Albuquerque - NM             175776    115365      48399       1679  10333\n",
            "Arlington - TX                66335     41079      19906        534   4816\n",
            "Atlanta - GA                 423867    231984     168764       6155  16964\n",
            "Aurora - CO                   75947     50598      18646        570   6133\n",
            "Austin - TX                  112114     56999      42781       1433  10901\n",
            "...                             ...       ...        ...        ...    ...\n",
            "Tucson - AZ                  148845     93217      43433       1588  10607\n",
            "Tulsa - OK                   151808    100732      38693       1682  10701\n",
            "Virginia Beach - VA           33416     13151      15490        660   4115\n",
            "Washington - DC              425853    183733     220692       9727  11701\n",
            "Wichita - KS                  89659     51428      28498       1071   8662\n",
            "\n",
            "[68 rows x 5 columns]\n"
          ]
        }
      ]
    },
    {
      "cell_type": "markdown",
      "source": [
        "The series results above shows total statistics for various jurisdictions. The information above guides the officials to make better decisions on resource allocation. It also shows the officials the cities that requires more funding due to their high crime rates. For example, Virginia Beach might require less funding and resources compared to Wichita, KS."
      ],
      "metadata": {
        "id": "13AWUdgwZchy"
      }
    },
    {
      "cell_type": "markdown",
      "source": [
        "## Plot"
      ],
      "metadata": {
        "id": "dy5rYEygay5j"
      }
    },
    {
      "cell_type": "code",
      "source": [
        "# filter out top 10 jurisdictions with the higest violent crime\n",
        "#.groupby combines jurisdiction and violent crimes and displays with side by side\n",
        "#.nlargest gives top 10\n",
        "\n",
        "top_jurisdictions = df.groupby(\"agency_jurisdiction\")[\"violent_crimes\"].sum().nlargest(10).index\n",
        "\n",
        "#store values in filtered_df. .isn() includes only rows that corresponds to desired jurisdictions\n",
        "filtered_df = df[df[\"agency_jurisdiction\"].isin(top_jurisdictions)]\n",
        "\n",
        "# filtered_df contains only the rows that belongs to the top 10 jurisdictions\n"
      ],
      "metadata": {
        "id": "VeHTf4t6cCFw"
      },
      "execution_count": null,
      "outputs": []
    },
    {
      "cell_type": "code",
      "source": [
        "print(\"Top 10 jurisdictions with the highest violent crimes are:\\n\" + \"\\n\".join(top_jurisdictions))\n"
      ],
      "metadata": {
        "colab": {
          "base_uri": "https://localhost:8080/"
        },
        "id": "RZQpa4DNeDkW",
        "outputId": "74807063-63e3-4384-81ba-6dd73ec2b577"
      },
      "execution_count": null,
      "outputs": [
        {
          "output_type": "stream",
          "name": "stdout",
          "text": [
            "Top 10 jurisdictions with the highest violent crimes are:\n",
            "New York City - NY\n",
            "Los Angeles - CA\n",
            "Chicago - IL\n",
            "Detroit - MI\n",
            "Houston - TX\n",
            "Philadelphia - PA\n",
            "Baltimore - MD\n",
            "Dallas - TX\n",
            "Miami -Dade County - FL\n",
            "Washington - DC\n"
          ]
        }
      ]
    },
    {
      "cell_type": "code",
      "source": [
        "# plot filtered_df now that we have our top 10 jurisdictions\n",
        "\n",
        "plt.figure(figsize=(15, 8))\n",
        "sns.boxplot(data=filtered_df, x=\"agency_jurisdiction\", y=\"violent_crimes\")\n",
        "plt.xticks(fontsize=10, rotation=15)\n",
        "plt.show()\n"
      ],
      "metadata": {
        "colab": {
          "base_uri": "https://localhost:8080/",
          "height": 740
        },
        "id": "3gq1tbSgfDXE",
        "outputId": "301c5862-93d0-48fe-bd5a-de67bd645550"
      },
      "execution_count": null,
      "outputs": [
        {
          "output_type": "display_data",
          "data": {
            "text/plain": [
              "<Figure size 1500x800 with 1 Axes>"
            ],
            "image/png": "[encoded data removed]"
          },
          "metadata": {}
        }
      ]
    },
    {
      "cell_type": "markdown",
      "source": [
        "The boxplot above shows top 10 jurisdiction with the number of violent crime. The line inside each box represents the median which shows the average or \"usual\" number of violent crimes in a jurisdiction.\n",
        "\n",
        "For example, looking at Chicago, IL it can be seen that there is a high median of violent crimes which suggets that a trend of elevated crimes over time. This will help federal goverment visualize the trends and make strong decisions when it comes to annual funding decisions."
      ],
      "metadata": {
        "id": "JbXRPJsqg4tS"
      }
    },
    {
      "cell_type": "markdown",
      "source": [
        "## Summary of the Findings"
      ],
      "metadata": {
        "id": "rQIuO1DEi31g"
      }
    },
    {
      "cell_type": "markdown",
      "source": [
        "After analyzing different crimes with various jurisdictions, i've narrowed down top 10 jurisdictions with highest and growing crime rates. Those top 10 jurisdictions are New York City - NY,Los Angeles - CA,Chicago - IL,Detroit - MI,Houston - TX,Philadelphia - PA,Baltimore - MD,Dallas - TX,Miami -Dade County - FL,Washington - DC. New York City being the top 1 because the findings showed that New York City has the highest violent crime rates across different years in the data it means that NYC might require more funding and resources compared to other jurisdictions. I also compared the total number of violent crimes within different jurisdictions. Albuquerque - NM had total of 175776 meanwhile Arlington- TX had 1679. This relates to my objective of appropriate funding allocation for each jurisdiction."
      ],
      "metadata": {
        "id": "njKSlha0i8pZ"
      }
    },
    {
      "cell_type": "markdown",
      "source": [
        "## Recommendations"
      ],
      "metadata": {
        "id": "0fRdMgxlk-H0"
      }
    },
    {
      "cell_type": "markdown",
      "source": [
        "My recommendation to the federal government officials in charge of funding distribution would be to look over top ten cities with high and growing violent crime rate and increase budget to support their need of more patroling, equipment, staff, etc. Every city has a different need of patrolling, therefore, it is important how that money is being distributed. I would recommend that New York City has incresed budget given the statistics that it has been having the highest number of violent crimes.\n",
        "\n",
        "My recommendation for the police officals of the top 10 citites would be to have community policing initiatives. They need a specialized task force that tackles that major issues. These special task for would have all the appropriate gear, as well as any other equipment that would assist them with tackling the crime. Additionally, I would recommend increased patrolling in top 10 jurisdictions with the increased budget given by the federal government.\n",
        "\n",
        "In conclusion, having proper funding and resources for each jurisdiction will ensure the safety of not only the residents but also the safety of the police officers involved. It will also improve the efficiency and the effectiveness of law enforcement."
      ],
      "metadata": {
        "id": "Z4PC4e48lMff"
      }
    },
    {
      "cell_type": "code",
      "source": [],
      "metadata": {
        "id": "KNe0OWqKnhzU"
      },
      "execution_count": null,
      "outputs": []
    }
  ]
}
